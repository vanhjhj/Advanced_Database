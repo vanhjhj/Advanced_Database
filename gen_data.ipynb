{
 "cells": [
  {
   "cell_type": "code",
   "execution_count": 1,
   "metadata": {},
   "outputs": [
    {
     "name": "stdout",
     "output_type": "stream",
     "text": [
      "Script INSERT đã được tạo trong file 'insert_thucdon.sql'\n"
     ]
    }
   ],
   "source": [
    "def generate_insert_thucdon():\n",
    "    ma_cn_list = [f\"CN{str(i).zfill(2)}\" for i in range(15)]  # CN00 -> CN14\n",
    "    ma_ma_list = [f\"MA{str(i).zfill(3)}\" for i in range(202)]  # MA000 -> MA201\n",
    "\n",
    "    with open(\"insert_thucdon.sql\", \"w\", encoding=\"utf-8\") as file:\n",
    "        file.write(\"-- Script INSERT INTO ThucDon\\n\\n\")\n",
    "        file.write(\"INSERT INTO ThucDon (MaCN, MaMA, TinhTrangPhucVu, TinhTrangGiaoHang)\\nVALUES\\n\")\n",
    "\n",
    "        values_list = []\n",
    "        for ma_cn in ma_cn_list:\n",
    "            for ma_ma in ma_ma_list:\n",
    "                values = f\"    ('{ma_cn}', '{ma_ma}', N'Có', N'Có')\"\n",
    "                values_list.append(values)\n",
    "\n",
    "        # Join tất cả các values với dấu phẩy và xuống dòng\n",
    "        file.write(\",\\n\".join(values_list))\n",
    "        file.write(\";\\n\")\n",
    "\n",
    "    print(\"Script INSERT đã được tạo trong file 'insert_thucdon.sql'\")\n",
    "\n",
    "if __name__ == \"__main__\":\n",
    "    generate_insert_thucdon()\n"
   ]
  },
  {
   "cell_type": "code",
   "execution_count": 10,
   "metadata": {},
   "outputs": [
    {
     "name": "stdout",
     "output_type": "stream",
     "text": [
      "21\n"
     ]
    }
   ],
   "source": [
    "# VIẾT ĐOẠN CODE IN RA CÁC SỐ CHIA HẾT CHO 7 TỪ 0 ĐẾN 201\n",
    "def print_numbers_divisible_by_7():\n",
    "    count = 0\n",
    "    for i in range(201):\n",
    "        if i % 10 == 0:\n",
    "            count += 1\n",
    "    print(count)\n",
    "\n",
    "print_numbers_divisible_by_7()"
   ]
  },
  {
   "cell_type": "code",
   "execution_count": 13,
   "metadata": {},
   "outputs": [
    {
     "name": "stdout",
     "output_type": "stream",
     "text": [
      "Đã tạo xong script insert_lich_su_dieu_dong_random.sql!\n"
     ]
    }
   ],
   "source": [
    "import random\n",
    "from datetime import datetime, timedelta\n",
    "\n",
    "# Hàm tạo ngày ngẫu nhiên\n",
    "def random_date(start_date, end_date):\n",
    "    delta = end_date - start_date\n",
    "    random_days = random.randint(0, delta.days)\n",
    "    return start_date + timedelta(days=random_days)\n",
    "\n",
    "# Tạo script insert cho bảng LichSuDieuDong với 15,000 dòng ngẫu nhiên\n",
    "def generate_random_insert_lich_su_dieu_dong():\n",
    "    ma_cn_list = [f\"CN{str(i).zfill(2)}\" for i in range(15)]  # CN00 -> CN14\n",
    "    ma_tk_nv_list = [f\"NV{str(i).zfill(6)}\" for i in range(5000)]  # NV000000 -> NV004999\n",
    "    start_date = datetime(2010, 1, 1)\n",
    "    end_date = datetime(2019, 1, 1)\n",
    "\n",
    "    max_rows_per_insert = 1000  # Giới hạn 1000 dòng mỗi câu lệnh INSERT\n",
    "    total_rows = 30000  # Tổng số dòng cần generate\n",
    "\n",
    "    rows = []\n",
    "    for _ in range(total_rows):\n",
    "        ma_cn = random.choice(ma_cn_list)  # Chọn ngẫu nhiên MaCN\n",
    "        ma_tk_nv = random.choice(ma_tk_nv_list)  # Chọn ngẫu nhiên MaTkNV\n",
    "        ngay_bd = random_date(start_date, end_date)\n",
    "        ngay_kt = random_date(ngay_bd, end_date)  # Ngày kết thúc >= ngày bắt đầu\n",
    "        rows.append((ma_cn, ma_tk_nv, ngay_bd.strftime('%Y-%m-%d'), ngay_kt.strftime('%Y-%m-%d')))\n",
    "\n",
    "    # Chia thành từng batch 1000 dòng\n",
    "    insert_statements = []\n",
    "    for i in range(0, len(rows), max_rows_per_insert):\n",
    "        batch = rows[i:i + max_rows_per_insert]\n",
    "        values = \",\\n\".join([f\"('{row[0]}', '{row[1]}', '{row[2]}', '{row[3]}')\" for row in batch])\n",
    "        insert_statements.append(f\"INSERT INTO LichSuDieuDong (MaCN, MaTkNV, NgayBD, NgayKT) VALUES\\n{values};\")\n",
    "\n",
    "    # Ghi vào file SQL\n",
    "    with open(\"insert_lich_su_dieu_dong_random.sql\", \"w\", encoding=\"utf-8\") as f:\n",
    "        for statement in insert_statements:\n",
    "            f.write(statement + \"\\n\\n\")\n",
    "\n",
    "    print(\"Đã tạo xong script insert_lich_su_dieu_dong_random.sql!\")\n",
    "\n",
    "# Gọi hàm\n",
    "generate_random_insert_lich_su_dieu_dong()\n"
   ]
  },
  {
   "cell_type": "code",
   "execution_count": null,
   "metadata": {},
   "outputs": [],
   "source": []
  }
 ],
 "metadata": {
  "kernelspec": {
   "display_name": "Python 3",
   "language": "python",
   "name": "python3"
  },
  "language_info": {
   "codemirror_mode": {
    "name": "ipython",
    "version": 3
   },
   "file_extension": ".py",
   "mimetype": "text/x-python",
   "name": "python",
   "nbconvert_exporter": "python",
   "pygments_lexer": "ipython3",
   "version": "3.12.6"
  }
 },
 "nbformat": 4,
 "nbformat_minor": 2
}
